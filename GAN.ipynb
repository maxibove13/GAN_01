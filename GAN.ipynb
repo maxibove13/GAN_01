{
 "cells": [
  {
   "cell_type": "markdown",
   "metadata": {},
   "source": [
    "# Basic GAN implementation"
   ]
  },
  {
   "cell_type": "markdown",
   "metadata": {},
   "source": [
    "### Import relevant modules"
   ]
  },
  {
   "cell_type": "code",
   "execution_count": 1,
   "metadata": {},
   "outputs": [],
   "source": [
    "import torch\n",
    "import torch.nn as nn\n",
    "import torch.optim as optim\n",
    "from torch.utils.data import DataLoader\n",
    "from torch.utils.tensorboard import SummaryWriter\n",
    "import torchvision.transforms as transforms\n",
    "import torchvision.datasets as datasets\n",
    "from torchvision.utils import make_grid"
   ]
  },
  {
   "cell_type": "markdown",
   "metadata": {},
   "source": [
    "### Check device"
   ]
  },
  {
   "cell_type": "code",
   "execution_count": 2,
   "metadata": {},
   "outputs": [
    {
     "data": {
      "text/plain": [
       "'cuda'"
      ]
     },
     "execution_count": 2,
     "metadata": {},
     "output_type": "execute_result"
    }
   ],
   "source": [
    "device = \"cuda\" if torch.cuda.is_available() else \"cpu\"\n",
    "if device == \"cuda\":\n",
    "  print(f\"{device} - {torch.cuda.get_device_name()}\")\n",
    "else:\n",
    "  print(f\"{device}\")"
   ]
  },
  {
   "cell_type": "markdown",
   "metadata": {},
   "source": [
    "## 0. Prepare Data"
   ]
  },
  {
   "cell_type": "markdown",
   "metadata": {},
   "source": [
    "### Image transformations"
   ]
  },
  {
   "cell_type": "code",
   "execution_count": 3,
   "metadata": {},
   "outputs": [],
   "source": [
    "# Image transformations. They can be chained together using Compose.\n",
    "transforms = transforms.Compose(\n",
    "    # Normalize to Mean Standard Deviation\n",
    "    [transforms.ToTensor(), transforms.Normalize((0.1307,), (0.3081,))]\n",
    ")"
   ]
  },
  {
   "cell_type": "markdown",
   "metadata": {},
   "source": [
    "### Define and get dataset"
   ]
  },
  {
   "cell_type": "code",
   "execution_count": 4,
   "metadata": {},
   "outputs": [],
   "source": [
    "# Latent space (noise) dimension\n",
    "z_dim = 64 # 128, 256\n",
    "# Image dimensions (flatened)\n",
    "img_dim = 28 * 28 * 1 # 784\n",
    "\n",
    "# Defne dataset\n",
    "dataset = datasets.MNIST(root=\"dataset/\", transform=transforms, download=True)"
   ]
  },
  {
   "cell_type": "markdown",
   "metadata": {},
   "source": [
    "## 1. Create Model (Arquitecture)\n",
    "#### Create Discriminator and Generator classes"
   ]
  },
  {
   "cell_type": "code",
   "execution_count": 5,
   "metadata": {},
   "outputs": [],
   "source": [
    "class Discriminator(nn.Module):\n",
    "    \"\"\"\n",
    "    A three hidden-layer discriminative neural network\n",
    "    \"\"\"\n",
    "    def __init__(self, img_dim):\n",
    "        super().__init__()\n",
    "\n",
    "        self.hidden0 == nn.Sequential(\n",
    "            nn.Linear(img_dim, 1024),\n",
    "            # Like RELU but it has a small slope for negative values instead of a flat slope. (In GANs is often a better choice than ReLU)\n",
    "            nn.LeakyReLU(0.2),\n",
    "            # To prevent overfitting (see README)\n",
    "            nn.Dropout(0.3)\n",
    "        )\n",
    "        self.hidden1 == nn.Sequential(\n",
    "            nn.Linear(1024, 512),\n",
    "            nn.LeakyReLU(0.2),\n",
    "            nn.Dropout(0.3)\n",
    "        )\n",
    "        self.hidden2 == nn.Sequential(\n",
    "            nn.Linear(512, 256),\n",
    "            nn.LeakyReLU(0.2),\n",
    "            nn.Dropout(0.3)\n",
    "        )\n",
    "        self.out == nn.Sequential(\n",
    "            nn.Linear(256, 1),\n",
    "            nn.Sigmoid()\n",
    "        )\n",
    "\n",
    "    def forward(self, x):\n",
    "        x = self.hidden0(x)\n",
    "        x = self.hidden1(x)\n",
    "        x = self.hidden2(x)\n",
    "        x = self.out(x)\n",
    "        return x\n",
    "\n",
    "class Generator(nn.Module):\n",
    "    # z_dim is the dimension of the latent noise that the generator takes as input\n",
    "    def __init__(self, z_dim, img_dim):\n",
    "        super().__init__()\n",
    "        self.gen = nn.Sequential(\n",
    "            # Input (latent noise)\n",
    "            nn.Linear(z_dim, 256),\n",
    "            nn.LeakyReLU(0.1),\n",
    "            nn.Linear(256, img_dim), # 28x28x1 --> 784\n",
    "            # Tanh to ensure the pixel output values are between -1 and 1\n",
    "            nn.Tanh()\n",
    "        )\n",
    "\n",
    "    def forward(self, x):\n",
    "        return self.gen(x)"
   ]
  },
  {
   "cell_type": "markdown",
   "metadata": {},
   "source": [
    "###  Initialize a Discriminator and Generator objects"
   ]
  },
  {
   "cell_type": "code",
   "execution_count": 6,
   "metadata": {},
   "outputs": [],
   "source": [
    "# Create a Disc object\n",
    "dis = Discriminator(img_dim).to(device)\n",
    "# Create a Gen object\n",
    "gen = Generator(z_dim, img_dim).to(device)"
   ]
  },
  {
   "cell_type": "markdown",
   "metadata": {},
   "source": [
    "## 2. Loss and optimizers"
   ]
  },
  {
   "cell_type": "markdown",
   "metadata": {},
   "source": [
    "### Hyperparameters"
   ]
  },
  {
   "cell_type": "code",
   "execution_count": 7,
   "metadata": {},
   "outputs": [],
   "source": [
    "lr = 3e-4 # Learning rate\n",
    "batch_size = 32\n",
    "num_epochs = 50"
   ]
  },
  {
   "cell_type": "markdown",
   "metadata": {},
   "source": [
    "### Loss function and optimizers"
   ]
  },
  {
   "cell_type": "code",
   "execution_count": 8,
   "metadata": {},
   "outputs": [],
   "source": [
    "# Loss function\n",
    "criterion = nn.BCELoss()\n",
    "\n",
    "# Optimizers\n",
    "# Here we tell which parameters (tensors) of the model we should update (dis.parameters(), gen.parameters())\n",
    "opt_dis = optim.Adam(dis.parameters(), lr=lr)\n",
    "opt_gen = optim.Adam(gen.parameters(), lr=lr)\n"
   ]
  },
  {
   "cell_type": "markdown",
   "metadata": {},
   "source": [
    "### Tensorboard settings"
   ]
  },
  {
   "cell_type": "code",
   "execution_count": 9,
   "metadata": {},
   "outputs": [],
   "source": [
    "fixed_noise = torch.randn((batch_size, z_dim)).to(device)\n",
    "writer_fake = SummaryWriter(f\"runs/GAN_MNIST/fake\")\n",
    "writer_real = SummaryWriter(f\"runs/GAN_MNIST/real\")\n",
    "step = 0"
   ]
  },
  {
   "cell_type": "markdown",
   "metadata": {},
   "source": [
    "##  3. Training loop"
   ]
  },
  {
   "cell_type": "code",
   "execution_count": 12,
   "metadata": {},
   "outputs": [
    {
     "name": "stdout",
     "output_type": "stream",
     "text": [
      "Epoch [0/50 - Loss D fake: 5.4481, Loss D real: 5.4481, Loss G: 0.0110]\n",
      "Epoch [1/50 - Loss D fake: 0.1658, Loss D real: 0.1658, Loss G: 2.5002]\n",
      "Epoch [2/50 - Loss D fake: 0.0705, Loss D real: 0.0705, Loss G: 3.9593]\n",
      "Epoch [3/50 - Loss D fake: 0.0392, Loss D real: 0.0392, Loss G: 4.6524]\n",
      "Epoch [4/50 - Loss D fake: 0.0241, Loss D real: 0.0241, Loss G: 4.8136]\n",
      "Epoch [5/50 - Loss D fake: 0.0070, Loss D real: 0.0070, Loss G: 6.5268]\n",
      "Epoch [6/50 - Loss D fake: 0.0318, Loss D real: 0.0318, Loss G: 4.5064]\n",
      "Epoch [7/50 - Loss D fake: 0.0142, Loss D real: 0.0142, Loss G: 5.1170]\n",
      "Epoch [8/50 - Loss D fake: 0.0124, Loss D real: 0.0124, Loss G: 5.3214]\n",
      "Epoch [9/50 - Loss D fake: 0.0243, Loss D real: 0.0243, Loss G: 5.2867]\n",
      "Epoch [10/50 - Loss D fake: 0.0135, Loss D real: 0.0135, Loss G: 5.0862]\n",
      "Epoch [11/50 - Loss D fake: 0.0215, Loss D real: 0.0215, Loss G: 5.7599]\n",
      "Epoch [12/50 - Loss D fake: 0.0638, Loss D real: 0.0638, Loss G: 5.3474]\n",
      "Epoch [13/50 - Loss D fake: 0.0091, Loss D real: 0.0091, Loss G: 6.2072]\n",
      "Epoch [14/50 - Loss D fake: 0.0605, Loss D real: 0.0605, Loss G: 5.1197]\n",
      "Epoch [15/50 - Loss D fake: 0.0177, Loss D real: 0.0177, Loss G: 5.8013]\n",
      "Epoch [16/50 - Loss D fake: 0.0032, Loss D real: 0.0032, Loss G: 6.8985]\n",
      "Epoch [17/50 - Loss D fake: 0.0180, Loss D real: 0.0180, Loss G: 5.7755]\n",
      "Epoch [18/50 - Loss D fake: 0.0161, Loss D real: 0.0161, Loss G: 5.5680]\n",
      "Epoch [19/50 - Loss D fake: 0.0071, Loss D real: 0.0071, Loss G: 7.1397]\n",
      "Epoch [20/50 - Loss D fake: 0.0189, Loss D real: 0.0189, Loss G: 6.5714]\n",
      "Epoch [21/50 - Loss D fake: 0.0033, Loss D real: 0.0033, Loss G: 7.1224]\n",
      "Epoch [22/50 - Loss D fake: 0.0024, Loss D real: 0.0024, Loss G: 7.8022]\n",
      "Epoch [23/50 - Loss D fake: 0.0054, Loss D real: 0.0054, Loss G: 7.1451]\n",
      "Epoch [24/50 - Loss D fake: 0.0060, Loss D real: 0.0060, Loss G: 6.9125]\n",
      "Epoch [25/50 - Loss D fake: 0.0112, Loss D real: 0.0112, Loss G: 6.2133]\n",
      "Epoch [26/50 - Loss D fake: 0.0329, Loss D real: 0.0329, Loss G: 6.2189]\n",
      "Epoch [27/50 - Loss D fake: 0.0028, Loss D real: 0.0028, Loss G: 7.1626]\n",
      "Epoch [28/50 - Loss D fake: 0.0083, Loss D real: 0.0083, Loss G: 6.8359]\n",
      "Epoch [29/50 - Loss D fake: 0.0031, Loss D real: 0.0031, Loss G: 7.7475]\n",
      "Epoch [30/50 - Loss D fake: 0.0037, Loss D real: 0.0037, Loss G: 7.7728]\n",
      "Epoch [31/50 - Loss D fake: 0.0016, Loss D real: 0.0016, Loss G: 8.5913]\n",
      "Epoch [32/50 - Loss D fake: 0.0075, Loss D real: 0.0075, Loss G: 6.2774]\n",
      "Epoch [33/50 - Loss D fake: 0.0020, Loss D real: 0.0020, Loss G: 8.5336]\n",
      "Epoch [34/50 - Loss D fake: 0.0020, Loss D real: 0.0020, Loss G: 8.0292]\n",
      "Epoch [35/50 - Loss D fake: 0.0025, Loss D real: 0.0025, Loss G: 8.2761]\n",
      "Epoch [36/50 - Loss D fake: 0.0014, Loss D real: 0.0014, Loss G: 8.5345]\n",
      "Epoch [37/50 - Loss D fake: 0.0021, Loss D real: 0.0021, Loss G: 7.9831]\n",
      "Epoch [38/50 - Loss D fake: 0.0003, Loss D real: 0.0003, Loss G: 9.5953]\n",
      "Epoch [39/50 - Loss D fake: 0.0007, Loss D real: 0.0007, Loss G: 9.0532]\n",
      "Epoch [40/50 - Loss D fake: 0.0011, Loss D real: 0.0011, Loss G: 8.1853]\n",
      "Epoch [41/50 - Loss D fake: 0.0004, Loss D real: 0.0004, Loss G: 9.1662]\n",
      "Epoch [42/50 - Loss D fake: 0.0007, Loss D real: 0.0007, Loss G: 8.1044]\n",
      "Epoch [43/50 - Loss D fake: 0.0016, Loss D real: 0.0016, Loss G: 8.1486]\n",
      "Epoch [44/50 - Loss D fake: 0.0010, Loss D real: 0.0010, Loss G: 8.3021]\n",
      "Epoch [45/50 - Loss D fake: 0.0021, Loss D real: 0.0021, Loss G: 8.1200]\n",
      "Epoch [46/50 - Loss D fake: 0.0004, Loss D real: 0.0004, Loss G: 9.2386]\n",
      "Epoch [47/50 - Loss D fake: 0.0057, Loss D real: 0.0057, Loss G: 6.9776]\n",
      "Epoch [48/50 - Loss D fake: 0.0001, Loss D real: 0.0001, Loss G: 10.9083]\n",
      "Epoch [49/50 - Loss D fake: 0.0047, Loss D real: 0.0047, Loss G: 8.0056]\n"
     ]
    }
   ],
   "source": [
    "# Set data\n",
    "loader = DataLoader(dataset, batch_size=batch_size, shuffle=True)\n",
    "\n",
    "for epoch in range(num_epochs):\n",
    "    for batch_idx, (real, _) in enumerate(loader):\n",
    "        \n",
    "        # Real image flatened and sent to device\n",
    "        real = real.view(-1, 784).to(device)\n",
    "        batch_size = real.shape[0]\n",
    "\n",
    "        ### Train Discriminator: max [ log(D(real)) + log(1 - D(G(z)) ]\n",
    "        # Reset gradients to zero\n",
    "        dis.zero_grad() # Clear out the gradients of all variables\n",
    "        noise = torch.randn(batch_size, z_dim).to(device)\n",
    "        ## Forward pass\n",
    "        fake = gen(noise) # Generate fake image\n",
    "        disc_real = dis(real).view(-1) # Real image Discriminator output\n",
    "        disc_fake = dis(fake).view(-1) # Fake (Generated) image Discriminator output.\n",
    "        ## Loss\n",
    "        loss_dis_real = criterion(disc_real, torch.ones_like(disc_real)) # (input: disc_real, target: real image, ones with size disc_real)\n",
    "        loss_dis_fake = criterion(disc_fake, torch.zeros_like(disc_fake)) # (input: disc_fake, target: fake image, zeros with size disc_fake)\n",
    "        ## Backward pass \n",
    "        # Train discriminator on real data\n",
    "        loss_dis = (loss_dis_real + loss_dis_fake) / 2\n",
    "        loss_dis.backward() # Compute local gradients and compute dLoss/dWeights using the chain rule (backward pass) \n",
    "        # Train discriminator on fake data\n",
    "        # loss_dis_fake.backward() # Compute local gradients and compute dLoss/dWeights using the chain rule (backward pass) \n",
    "        # Update discriminator weights\n",
    "        opt_dis.step()\n",
    "\n",
    "\n",
    "        ### Train Generator: min [ log(1 - D(G(z))) ] <-> max [ log(D(G(z))) ]\n",
    "        # Reset gradients to zero\n",
    "        gen.zero_grad() # Clear out the gradients of all variables\n",
    "        ## Forward pass\n",
    "        output = dis(gen(noise)).view(-1) # Fake (Generated) image Discriminator output.\n",
    "        ## Loss\n",
    "        loss_gen = criterion(output, torch.ones_like(output)) # (input: fake image disc output, target: fame image disc output being ones)\n",
    "        ## Backward pass\n",
    "        loss_gen.backward()\n",
    "        # Update discriminator weights\n",
    "        opt_gen.step()\n",
    "\n",
    "\n",
    "        # On each epoch at the first mini-batch:\n",
    "        if batch_idx == 0:\n",
    "            # Print epochs and losses\n",
    "            print( \n",
    "                f\"Epoch [{epoch}/{num_epochs} - \"\n",
    "                f\"Loss D fake: {loss_dis_fake:.4f}, Loss D real: {loss_dis_fake:.4f}, Loss G: {loss_gen:.4f}]\"\n",
    "            )\n",
    "            # Get images for each epoch\n",
    "            with torch.no_grad(): # Context-manager that disable gradient calculation. It will reduce memory consumption.\n",
    "                fake = gen(fixed_noise).reshape(-1, 1, 28, 28) # Fake image with right dimensions\n",
    "                data = real.reshape(-1, 1, 28, 28) # Real image with right dimensions\n",
    "                img_grid_fake = make_grid(fake, normalize=True)\n",
    "                img_grid_real = make_grid(data, normalize=True)\n",
    "\n",
    "                writer_fake.add_image(\n",
    "                    \"MNIST Fake Images\", img_grid_fake, global_step=step\n",
    "                )\n",
    "\n",
    "                writer_real.add_image(\n",
    "                    \"MNIST Real Images\", img_grid_real, global_step=step\n",
    "                )\n",
    "\n",
    "                step += 1\n",
    "\n",
    "        "
   ]
  }
 ],
 "metadata": {
  "interpreter": {
   "hash": "fec7b6ee39847465980d53c5e21723d5678090829ada2d3aaf8ff1ac066b3883"
  },
  "kernelspec": {
   "display_name": "Python 3.8.10 64-bit ('.venv_gan_01': venv)",
   "language": "python",
   "name": "python3"
  },
  "language_info": {
   "codemirror_mode": {
    "name": "ipython",
    "version": 3
   },
   "file_extension": ".py",
   "mimetype": "text/x-python",
   "name": "python",
   "nbconvert_exporter": "python",
   "pygments_lexer": "ipython3",
   "version": "3.8.10"
  },
  "orig_nbformat": 4
 },
 "nbformat": 4,
 "nbformat_minor": 2
}
